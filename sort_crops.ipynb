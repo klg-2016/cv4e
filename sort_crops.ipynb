{
 "cells": [
  {
   "cell_type": "code",
   "execution_count": 1,
   "metadata": {},
   "outputs": [
    {
     "ename": "OSError",
     "evalue": "[Errno 19] No such device: '/mnt/d/cv4e_data/interim_crops'",
     "output_type": "error",
     "traceback": [
      "\u001b[0;31m---------------------------------------------------------------------------\u001b[0m",
      "\u001b[0;31mOSError\u001b[0m                                   Traceback (most recent call last)",
      "Cell \u001b[0;32mIn[1], line 10\u001b[0m\n\u001b[1;32m      4\u001b[0m \u001b[38;5;66;03m# Define the root directory\u001b[39;00m\n\u001b[1;32m      5\u001b[0m \u001b[38;5;66;03m# if this throws errors and can't find the file on the hard drive,\u001b[39;00m\n\u001b[1;32m      6\u001b[0m \u001b[38;5;66;03m# restart my laptop and leave the external drive plugged in\u001b[39;00m\n\u001b[1;32m      7\u001b[0m \u001b[38;5;66;03m#update: 'Aug_Nov_2016_Merged_NoGhost' is redundant\u001b[39;00m\n\u001b[1;32m      8\u001b[0m root_path \u001b[38;5;241m=\u001b[39m \u001b[38;5;124m'\u001b[39m\u001b[38;5;124m/mnt/d/cv4e_data/interim_crops\u001b[39m\u001b[38;5;124m'\u001b[39m\n\u001b[0;32m---> 10\u001b[0m files \u001b[38;5;241m=\u001b[39m \u001b[43mos\u001b[49m\u001b[38;5;241;43m.\u001b[39;49m\u001b[43mlistdir\u001b[49m\u001b[43m(\u001b[49m\u001b[43mroot_path\u001b[49m\u001b[43m)\u001b[49m\n\u001b[1;32m     11\u001b[0m \u001b[38;5;28mprint\u001b[39m(files)\n",
      "\u001b[0;31mOSError\u001b[0m: [Errno 19] No such device: '/mnt/d/cv4e_data/interim_crops'"
     ]
    }
   ],
   "source": [
    "#Let's try and create the correct file paths\n",
    "import os\n",
    "\n",
    "# Define the root directory\n",
    "# if this throws errors and can't find the file on the hard drive,\n",
    "# restart my laptop and leave the external drive plugged in\n",
    "#update: 'Aug_Nov_2016_Merged_NoGhost' is redundant\n",
    "root_path = '/mnt/d/cv4e_data/interim_crops'\n",
    "\n",
    "files = os.listdir(root_path)\n",
    "print(files)\n",
    "\n",
    "# # Initialize an empty dictionary to store the results\n",
    "# image_paths = {}\n",
    "# for img in os.listdir(root_path):\n"
   ]
  }
 ],
 "metadata": {
  "kernelspec": {
   "display_name": "cv4e_practice",
   "language": "python",
   "name": "python3"
  },
  "language_info": {
   "codemirror_mode": {
    "name": "ipython",
    "version": 3
   },
   "file_extension": ".py",
   "mimetype": "text/x-python",
   "name": "python",
   "nbconvert_exporter": "python",
   "pygments_lexer": "ipython3",
   "version": "3.10.16"
  }
 },
 "nbformat": 4,
 "nbformat_minor": 2
}

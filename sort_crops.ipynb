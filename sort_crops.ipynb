{
 "cells": [
  {
   "cell_type": "code",
   "execution_count": 12,
   "metadata": {},
   "outputs": [
    {
     "name": "stdout",
     "output_type": "stream",
     "text": [
      "file_name : aardvark-B05-38121_crop1_animal.JPG\n",
      "file_name : aardvark-B05-38122_crop1_animal.JPG\n",
      "file_name : aardvark-B05-38123_crop1_animal.JPG\n",
      "file_name : aardvark-B05-38124_crop1_animal.JPG\n",
      "file_name : aardvark-B05-38125_crop1_animal.JPG\n",
      "file_name : aardvark-B05-38126_crop1_animal.JPG\n",
      "file_name : aardvark-B05-38127_crop1_animal.JPG\n",
      "                              file_name       spp camera img_id crop_idx  \\\n",
      "0   aardvark-B05-38121_crop1_animal.JPG  aardvark    B05  38121    crop1   \n",
      "2   aardvark-B05-38122_crop1_animal.JPG  aardvark    B05  38122    crop1   \n",
      "4   aardvark-B05-38123_crop1_animal.JPG  aardvark    B05  38123    crop1   \n",
      "6   aardvark-B05-38124_crop1_animal.JPG  aardvark    B05  38124    crop1   \n",
      "8   aardvark-B05-38125_crop1_animal.JPG  aardvark    B05  38125    crop1   \n",
      "10  aardvark-B05-38126_crop1_animal.JPG  aardvark    B05  38126    crop1   \n",
      "12  aardvark-B05-38127_crop1_animal.JPG  aardvark    B05  38127    crop1   \n",
      "\n",
      "   MD_detection  \n",
      "0        animal  \n",
      "2        animal  \n",
      "4        animal  \n",
      "6        animal  \n",
      "8        animal  \n",
      "10       animal  \n",
      "12       animal  \n"
     ]
    }
   ],
   "source": [
    "#Let's try and create the correct file paths\n",
    "import os\n",
    "import pandas as pd\n",
    "\n",
    "# Define the root directory\n",
    "# if this throws errors and can't find the file on the hard drive,\n",
    "# restart my laptop and leave the external drive plugged in\n",
    "#update: 'Aug_Nov_2016_Merged_NoGhost' is redundant\n",
    "root_path = '/mnt/d/cv4e_data/interim_crops'\n",
    "\n",
    "files = os.listdir(root_path)\n",
    "# print(files)\n",
    "\n",
    "# Initialize an empty dictionary to store the results\n",
    "#image_paths = {}\n",
    "\n",
    "df = pd.DataFrame(columns=['file_name', 'spp', 'camera', 'img_id', 'crop_idx', 'MD_detection']) #initialize an empty dataframe with columns\n",
    "\n",
    "for idx, file_name in enumerate(files):\n",
    "    if file_name.startswith('._'): #skip files that are hidden\n",
    "        continue\n",
    "\n",
    "    # create objects\n",
    "    print(f\"file_name : {file_name}\") # file_name : aardvark-B05-38121_crop1_animal.JPG\n",
    "    spp = file_name.split('-')[0]\n",
    "    camera = file_name.split('-')[1]\n",
    "    temp = file_name.split('-')[2] #should be something like 38121_crop1_animal.JPG\n",
    "\n",
    "    img_id = temp.split('_')[0] #should be 38121\n",
    "    crop_idx = temp.split('_')[1] #should be crop1\n",
    "    temp2 = temp.split('_')[2] #should be animal.JPG\n",
    "\n",
    "    MD_detection = temp2.split('.')[0] #should be animal\n",
    "\n",
    "# append objects to dataframe\n",
    "    df.at[idx, 'file_name'] = file_name\n",
    "    df.at[idx, 'spp'] = spp #fill in species column in data frame\n",
    "    df.at[idx, 'camera'] = camera\n",
    "    df.at[idx, 'img_id'] = img_id\n",
    "    df.at[idx, 'crop_idx'] = crop_idx\n",
    "    df.at[idx, 'MD_detection'] = MD_detection\n",
    "    # df.at[index, 'datetime'] = datetime\n",
    "\n",
    "#this is used for testing\n",
    "    if idx > 10:\n",
    "        break\n",
    "\n",
    "print(df)\n"
   ]
  }
 ],
 "metadata": {
  "kernelspec": {
   "display_name": "cv4e_practice",
   "language": "python",
   "name": "python3"
  },
  "language_info": {
   "codemirror_mode": {
    "name": "ipython",
    "version": 3
   },
   "file_extension": ".py",
   "mimetype": "text/x-python",
   "name": "python",
   "nbconvert_exporter": "python",
   "pygments_lexer": "ipython3",
   "version": "3.10.16"
  }
 },
 "nbformat": 4,
 "nbformat_minor": 2
}
